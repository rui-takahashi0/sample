{
 "cells": [
  {
   "cell_type": "code",
   "execution_count": 1,
   "id": "e43b707b",
   "metadata": {},
   "outputs": [
    {
     "name": "stdout",
     "output_type": "stream",
     "text": [
      "3科目の平均点は 83.33333333333333 点です\n"
     ]
    }
   ],
   "source": [
    "japanese = 85\n",
    "math = 90\n",
    "english = 75\n",
    "\n",
    "average = (japanese + math + english) / 3\n",
    "\n",
    "print(\"3科目の平均点は\", average, \"点です\")"
   ]
  },
  {
   "cell_type": "code",
   "execution_count": null,
   "id": "f5262a77",
   "metadata": {},
   "outputs": [
    {
     "name": "stdout",
     "output_type": "stream",
     "text": [
      "5\n"
     ]
    }
   ],
   "source": [
    "a = 10\n",
    "b = -5\n",
    "c = 0\n",
    "print(a + b)"
   ]
  },
  {
   "cell_type": "code",
   "execution_count": 3,
   "id": "9436b280",
   "metadata": {},
   "outputs": [
    {
     "name": "stdout",
     "output_type": "stream",
     "text": [
      "3.3333333333333335\n",
      "3\n"
     ]
    }
   ],
   "source": [
    "print(10/3)\n",
    "print(10//3)"
   ]
  },
  {
   "cell_type": "code",
   "execution_count": 4,
   "id": "2c1e18da",
   "metadata": {},
   "outputs": [
    {
     "name": "stdout",
     "output_type": "stream",
     "text": [
      "0.30000000000000004\n"
     ]
    }
   ],
   "source": [
    "x = 3.14\n",
    "y = 0.1 + 0.2\n",
    "print(y)"
   ]
  },
  {
   "cell_type": "code",
   "execution_count": 5,
   "id": "ed8e9d21",
   "metadata": {},
   "outputs": [
    {
     "name": "stdout",
     "output_type": "stream",
     "text": [
      "(1+3.5j)\n"
     ]
    }
   ],
   "source": [
    "c = 2 + 3j\n",
    "d = -1 + 0.5j\n",
    "print(c + d)"
   ]
  },
  {
   "cell_type": "code",
   "execution_count": 6,
   "id": "c3fa2130",
   "metadata": {},
   "outputs": [
    {
     "name": "stdout",
     "output_type": "stream",
     "text": [
      "Hello, World!\n"
     ]
    }
   ],
   "source": [
    "text = \"Hello, World!\"\n",
    "print(text)"
   ]
  },
  {
   "cell_type": "code",
   "execution_count": 8,
   "id": "11c9c740",
   "metadata": {},
   "outputs": [
    {
     "name": "stdout",
     "output_type": "stream",
     "text": [
      "PYTHON\n",
      "python\n"
     ]
    }
   ],
   "source": [
    "text = \"Python\"\n",
    "print(text.upper())\n",
    "print(text.lower())"
   ]
  },
  {
   "cell_type": "code",
   "execution_count": 9,
   "id": "c8e06b68",
   "metadata": {},
   "outputs": [
    {
     "name": "stdout",
     "output_type": "stream",
     "text": [
      "True\n",
      "False\n"
     ]
    }
   ],
   "source": [
    "a = 5\n",
    "b = 10\n",
    "print(a < b)\n",
    "print(a == b)"
   ]
  },
  {
   "cell_type": "code",
   "execution_count": 10,
   "id": "1951bab1",
   "metadata": {},
   "outputs": [
    {
     "name": "stdout",
     "output_type": "stream",
     "text": [
      "None\n"
     ]
    }
   ],
   "source": [
    "x = None\n",
    "print(x)"
   ]
  },
  {
   "cell_type": "code",
   "execution_count": 12,
   "id": "2437fc67",
   "metadata": {},
   "outputs": [
    {
     "name": "stdout",
     "output_type": "stream",
     "text": [
      "加算 13\n",
      "割算 3.3333333333333335\n",
      "累算 1000\n"
     ]
    }
   ],
   "source": [
    "a = 10\n",
    "b = 3\n",
    "print(\"加算\", a + b)\n",
    "print(\"割算\", a / b)\n",
    "print(\"累算\", a ** b)"
   ]
  },
  {
   "cell_type": "code",
   "execution_count": 20,
   "id": "d070a3cd",
   "metadata": {},
   "outputs": [
    {
     "name": "stdout",
     "output_type": "stream",
     "text": [
      "x += 5: 15\n",
      "x *= 2: 30\n"
     ]
    }
   ],
   "source": [
    "x = 10\n",
    "x += 5\n",
    "print(\"x += 5:\", x)\n",
    "x *= 2\n",
    "print(\"x *= 2:\", x)"
   ]
  },
  {
   "cell_type": "code",
   "execution_count": 21,
   "id": "f656a9ba",
   "metadata": {},
   "outputs": [
    {
     "name": "stdout",
     "output_type": "stream",
     "text": [
      "a > b: True\n",
      "a == b: False\n"
     ]
    }
   ],
   "source": [
    "a = 10\n",
    "b = 5\n",
    "print(\"a > b:\", a > b)  # True\n",
    "print(\"a == b:\", a == b)  # False"
   ]
  },
  {
   "cell_type": "code",
   "execution_count": 22,
   "id": "87577516",
   "metadata": {},
   "outputs": [
    {
     "name": "stdout",
     "output_type": "stream",
     "text": [
      "100 < x < 200: True\n"
     ]
    }
   ],
   "source": [
    "x = 150\n",
    "print(\"100 < x < 200:\", 100 < x < 200)"
   ]
  },
  {
   "cell_type": "code",
   "execution_count": 23,
   "id": "49e240a7",
   "metadata": {},
   "outputs": [
    {
     "name": "stdout",
     "output_type": "stream",
     "text": [
      "10 < x and x < 20: True\n",
      "not (x == 15): False\n"
     ]
    }
   ],
   "source": [
    "x = 15\n",
    "print(\"10 < x and x < 20:\", 10 < x and x < 20) \n",
    "print(\"not (x == 15):\", not (x == 15))"
   ]
  },
  {
   "cell_type": "code",
   "execution_count": 30,
   "id": "6aed3497",
   "metadata": {},
   "outputs": [
    {
     "name": "stdout",
     "output_type": "stream",
     "text": [
      "a & b: 0b1000\n",
      "a << 1: 0b11000\n"
     ]
    }
   ],
   "source": [
    "#ビット演算子\n",
    "a = 0b1100\n",
    "b = 0b1010\n",
    "print(\"a & b:\", bin(a & b))\n",
    "print(\"a << 1:\", bin(a << 1))"
   ]
  },
  {
   "cell_type": "code",
   "execution_count": 32,
   "id": "262a04cb",
   "metadata": {},
   "outputs": [],
   "source": [
    "#if文\n",
    "#if 条件式:"
   ]
  },
  {
   "cell_type": "code",
   "execution_count": 34,
   "id": "7a0c5efe",
   "metadata": {},
   "outputs": [
    {
     "name": "stdout",
     "output_type": "stream",
     "text": [
      "合格です\n",
      "処理を終了します\n"
     ]
    }
   ],
   "source": [
    "score = int(input(\"点数を入力してください: \"))\n",
    "\n",
    "if score >= 60:\n",
    "    print(\"合格です\")\n",
    "\n",
    "print(\"処理を終了します\")"
   ]
  },
  {
   "cell_type": "code",
   "execution_count": 35,
   "id": "fe0b99d3",
   "metadata": {},
   "outputs": [],
   "source": [
    "#if else\n",
    "#if 条件式:\n",
    "    # 条件が True の場合の処理\n",
    "#else:\n",
    "    # 条件が False の場合の処理"
   ]
  },
  {
   "cell_type": "code",
   "execution_count": 36,
   "id": "4424a23f",
   "metadata": {},
   "outputs": [
    {
     "name": "stdout",
     "output_type": "stream",
     "text": [
      "不合格です\n",
      "もっとがんばりましょう\n",
      "処理を終了します\n"
     ]
    }
   ],
   "source": [
    "score = int(input(\"点数を入力してください: \"))\n",
    "\n",
    "if score >= 60:\n",
    "    print(\"合格です\")\n",
    "    print(\"おめでとうございます！\")\n",
    "else:\n",
    "    print(\"不合格です\")\n",
    "    print(\"もっとがんばりましょう\")\n",
    "\n",
    "print(\"処理を終了します\")"
   ]
  },
  {
   "cell_type": "code",
   "execution_count": 38,
   "id": "79676449",
   "metadata": {},
   "outputs": [],
   "source": [
    "#if-elif-else文\n",
    "#if 条件式1:\n",
    "    # 条件式1が True の場合の処理\n",
    "#elif 条件式2:\n",
    "    # 条件式2が True の場合の処理\n",
    "#else:\n",
    "    # どの条件も False の場合の処理"
   ]
  },
  {
   "cell_type": "code",
   "execution_count": 39,
   "id": "8a785953",
   "metadata": {},
   "outputs": [
    {
     "name": "stdout",
     "output_type": "stream",
     "text": [
      "優秀です\n",
      "大変よくできました！\n",
      "処理を終了します\n"
     ]
    }
   ],
   "source": [
    "score = int(input(\"点数を入力してください: \"))\n",
    "\n",
    "if score >= 90:\n",
    "    print(\"優秀です\")\n",
    "    print(\"大変よくできました！\")\n",
    "elif score >= 60:\n",
    "    print(\"合格です\")\n",
    "    print(\"おめでとうございます！\")\n",
    "else:\n",
    "    print(\"不合格です\")\n",
    "    print(\"もっとがんばりましょう\")\n",
    "\n",
    "print(\"処理を終了します\")"
   ]
  },
  {
   "cell_type": "code",
   "execution_count": 40,
   "id": "028ed0d6",
   "metadata": {},
   "outputs": [
    {
     "name": "stdout",
     "output_type": "stream",
     "text": [
      "0\n",
      "1\n",
      "2\n",
      "3\n",
      "4\n",
      "5\n",
      "6\n",
      "7\n",
      "8\n",
      "9\n",
      "10\n"
     ]
    }
   ],
   "source": [
    "for i in range(11):\n",
    "    print(i)"
   ]
  },
  {
   "cell_type": "code",
   "execution_count": 41,
   "id": "ca8f9c03",
   "metadata": {},
   "outputs": [],
   "source": [
    "#range関数\n",
    "#range(開始, 終了, ステップ) で数値の連続を生成します。\n",
    "#終了の値は含まれません。"
   ]
  },
  {
   "cell_type": "code",
   "execution_count": 42,
   "id": "44d6af41",
   "metadata": {},
   "outputs": [
    {
     "name": "stdout",
     "output_type": "stream",
     "text": [
      "2\n",
      "4\n",
      "6\n",
      "8\n",
      "10\n",
      "12\n",
      "14\n",
      "16\n",
      "18\n",
      "20\n"
     ]
    }
   ],
   "source": [
    "for i in range(2, 21, 2):\n",
    "    print(i)"
   ]
  },
  {
   "cell_type": "code",
   "execution_count": 43,
   "id": "c3c073a0",
   "metadata": {},
   "outputs": [],
   "source": [
    "#while文\n",
    "#条件が真（True）の間、処理を繰り返します。"
   ]
  },
  {
   "cell_type": "code",
   "execution_count": 44,
   "id": "36b673be",
   "metadata": {},
   "outputs": [],
   "source": [
    "#while 条件:\n",
    "    # 繰り返し処理"
   ]
  },
  {
   "cell_type": "code",
   "execution_count": 45,
   "id": "88dc9207",
   "metadata": {},
   "outputs": [
    {
     "name": "stdout",
     "output_type": "stream",
     "text": [
      "1\n",
      "2\n",
      "3\n",
      "4\n",
      "5\n",
      "6\n",
      "7\n",
      "8\n",
      "9\n",
      "10\n",
      "処理を終了します\n"
     ]
    }
   ],
   "source": [
    "i = 0\n",
    "while i < 10:\n",
    "    i += 1\n",
    "    print(i)\n",
    "\n",
    "print(\"処理を終了します\")"
   ]
  },
  {
   "cell_type": "code",
   "execution_count": 46,
   "id": "b8132895",
   "metadata": {},
   "outputs": [
    {
     "name": "stdout",
     "output_type": "stream",
     "text": [
      "1\n",
      "2\n",
      "3\n",
      "4\n",
      "5\n",
      "6\n",
      "7\n",
      "8\n",
      "9\n",
      "10\n",
      "処理を終了します\n"
     ]
    }
   ],
   "source": [
    "i = 0\n",
    "while True:\n",
    "    i += 1\n",
    "    if i > 10:\n",
    "        break\n",
    "    print(i)\n",
    "\n",
    "print(\"処理を終了します\")"
   ]
  },
  {
   "cell_type": "code",
   "execution_count": 48,
   "id": "d994f16f",
   "metadata": {},
   "outputs": [
    {
     "name": "stdout",
     "output_type": "stream",
     "text": [
      "2\n",
      "4\n",
      "6\n",
      "8\n",
      "10\n",
      "処理を終了します\n"
     ]
    }
   ],
   "source": [
    "i = 0\n",
    "while True:\n",
    "    i += 1\n",
    "    if i > 10:\n",
    "        break\n",
    "    if i % 2 == 1:\n",
    "        continue\n",
    "    print(i)\n",
    "\n",
    "print(\"処理を終了します\")"
   ]
  },
  {
   "cell_type": "code",
   "execution_count": null,
   "id": "be0d85be",
   "metadata": {},
   "outputs": [],
   "source": [
    "#ValueError: invalid literal for int()\n",
    "score = int(input(\"点数を入力してください: \"))"
   ]
  },
  {
   "cell_type": "code",
   "execution_count": 50,
   "id": "c449df13",
   "metadata": {},
   "outputs": [
    {
     "name": "stdout",
     "output_type": "stream",
     "text": [
      "100 を 30 で割った結果は 3.3333333333333335 です\n"
     ]
    }
   ],
   "source": [
    "#例外処理の基本構文\n",
    "try:\n",
    "    # エラーが起こる可能性のある処理\n",
    "    num = int(input(\"整数を入力してください: \"))\n",
    "    result = 100 / num\n",
    "    print(f\"100 を {num} で割った結果は {result} です\")\n",
    "except ZeroDivisionError:\n",
    "    # 0 で割った場合のエラー処理\n",
    "    print(\"エラー: 0 で割ることはできません\")\n",
    "except ValueError:\n",
    "    # 数値以外を入力した場合のエラー処理\n",
    "    print(\"エラー: 整数を入力してください\")"
   ]
  },
  {
   "cell_type": "code",
   "execution_count": 51,
   "id": "16daddeb",
   "metadata": {},
   "outputs": [
    {
     "name": "stdout",
     "output_type": "stream",
     "text": [
      "エラー: 0 で割ることはできません\n",
      "プログラム終了\n"
     ]
    }
   ],
   "source": [
    "try:\n",
    "    num = int(input(\"整数を入力してください: \"))\n",
    "    result = 100 / num\n",
    "except ZeroDivisionError:\n",
    "    print(\"エラー: 0 で割ることはできません\")\n",
    "except ValueError:\n",
    "    print(\"エラー: 整数を入力してください\")\n",
    "else:\n",
    "    print(f\"計算結果: {result}\")\n",
    "finally:\n",
    "    print(\"プログラム終了\")"
   ]
  },
  {
   "cell_type": "code",
   "execution_count": 52,
   "id": "95c0d580",
   "metadata": {},
   "outputs": [],
   "source": [
    "#数値型\n",
    "x = 10\n",
    "#リスト型\n",
    "numbers = [1, 2, 3, 4, 5]"
   ]
  },
  {
   "cell_type": "code",
   "execution_count": 53,
   "id": "b0c6ff2a",
   "metadata": {},
   "outputs": [],
   "source": [
    "#イミュータブル（変更不可）とミュータブル（変更可能）\n",
    "#イミュータブル\n",
    "\n",
    "#一度作成すると内容を変更できません。新しいデータを生成する際には別のオブジェクトが作られます。\n",
    "\n",
    "#代表例:\n",
    "\n",
    "#整数型、ブール型\n",
    "#文字列（str）\n",
    "#タプル（tuple）\n",
    "#レンジ（range）\n",
    "#ミュータブル\n",
    "\n",
    "#内容を変更できます。要素の追加・削除・更新が可能です。\n",
    "\n",
    "#代表例:\n",
    "\n",
    "#リスト（list）\n",
    "#辞書（dict）\n",
    "#セット（set）"
   ]
  },
  {
   "cell_type": "code",
   "execution_count": 54,
   "id": "f4f9382b",
   "metadata": {},
   "outputs": [],
   "source": [
    "s = \"abcdefghijklmnopqrstuvwxyz\""
   ]
  },
  {
   "cell_type": "code",
   "execution_count": 55,
   "id": "62c4e5cd",
   "metadata": {},
   "outputs": [
    {
     "name": "stdout",
     "output_type": "stream",
     "text": [
      "a\n",
      "z\n"
     ]
    }
   ],
   "source": [
    "s = \"abcdefghijklmnopqrstuvwxyz\"\n",
    "print(s[0])\n",
    "print(s[-1])"
   ]
  },
  {
   "cell_type": "code",
   "execution_count": 56,
   "id": "605eed04",
   "metadata": {},
   "outputs": [
    {
     "name": "stdout",
     "output_type": "stream",
     "text": [
      "abcdefg\n",
      "vwxyz\n",
      "acegikmoqsuwy\n"
     ]
    }
   ],
   "source": [
    "s = \"abcdefghijklmnopqrstuvwxyz\"\n",
    "print(s[0:7])    # abcdefg\n",
    "print(s[-5:])    # vwxyz\n",
    "print(s[::2])    # acegikmoqsuwy（2個おき）"
   ]
  },
  {
   "cell_type": "code",
   "execution_count": 58,
   "id": "720669ab",
   "metadata": {},
   "outputs": [
    {
     "name": "stdout",
     "output_type": "stream",
     "text": [
      "T\n",
      "E\n",
      "C\n",
      "H\n",
      "A\n",
      "C\n",
      "A\n",
      "D\n",
      "E\n",
      "M\n",
      "Y\n"
     ]
    }
   ],
   "source": [
    "s = \"TechAcademy\"\n",
    "for i in s:\n",
    "    print(i.upper())"
   ]
  },
  {
   "cell_type": "code",
   "execution_count": 59,
   "id": "e944fb35",
   "metadata": {},
   "outputs": [
    {
     "name": "stdout",
     "output_type": "stream",
     "text": [
      "11\n"
     ]
    }
   ],
   "source": [
    "s = \"TechAcademy\"\n",
    "print(len(s))"
   ]
  },
  {
   "cell_type": "code",
   "execution_count": 60,
   "id": "fbffa8ab",
   "metadata": {},
   "outputs": [
    {
     "name": "stdout",
     "output_type": "stream",
     "text": [
      "長い文字列です。\n"
     ]
    }
   ],
   "source": [
    "if len(s) > 10:\n",
    "    print(\"長い文字列です。\")"
   ]
  },
  {
   "cell_type": "code",
   "execution_count": 62,
   "id": "0e04e486",
   "metadata": {},
   "outputs": [
    {
     "name": "stdout",
     "output_type": "stream",
     "text": [
      "「にんてんどううどんてんに」は回文です！\n"
     ]
    }
   ],
   "source": [
    "#回文判定\n",
    "s = \"にんてんどううどんてんに\"\n",
    "if s == s[::-1]:\n",
    "    print(f\"「{s}」は回文です！\")\n",
    "else:\n",
    "    print(f\"「{s}」は回文ではありません。\")"
   ]
  },
  {
   "cell_type": "code",
   "execution_count": null,
   "id": "46373430",
   "metadata": {},
   "outputs": [
    {
     "name": "stdout",
     "output_type": "stream",
     "text": [
      "[1, 2, 3, 4, 5] ['apple', 'banana', 'cherry'] [1, 'apple', 3.14, True] []\n"
     ]
    }
   ],
   "source": [
    "#リスト作成方法\n",
    "#角括弧を使用\n",
    "numbers = [1, 2, 3, 4, 5]\n",
    "fruits = [\"apple\", \"banana\", \"cherry\"]\n",
    "mixed = [1, \"apple\", 3.14, True]\n",
    "empty_list = []\n",
    "\n",
    "print(numbers, fruits, mixed, empty_list)"
   ]
  },
  {
   "cell_type": "code",
   "execution_count": null,
   "id": "97d00b74",
   "metadata": {},
   "outputs": [
    {
     "name": "stdout",
     "output_type": "stream",
     "text": [
      "['h', 'e', 'l', 'l', 'o'] [1, 2, 3] [0, 1, 2, 3, 4]\n"
     ]
    }
   ],
   "source": [
    "#リスト関数を使用\n",
    "string_to_list = list(\"hello\")\n",
    "tuple_to_list = list((1, 2, 3))\n",
    "range_to_list = list(range(5))\n",
    "\n",
    "print(string_to_list, tuple_to_list, range_to_list)"
   ]
  },
  {
   "cell_type": "code",
   "execution_count": 67,
   "id": "03e18fb4",
   "metadata": {},
   "outputs": [
    {
     "name": "stdout",
     "output_type": "stream",
     "text": [
      "[None, None, None, None, None] [0, 0, 0, 0, 0, 0, 0, 0, 0, 0]\n"
     ]
    }
   ],
   "source": [
    "none_list = [None] * 5\n",
    "zeros = [0] * 10\n",
    "print(none_list, zeros)"
   ]
  },
  {
   "cell_type": "code",
   "execution_count": 68,
   "id": "57262551",
   "metadata": {},
   "outputs": [
    {
     "name": "stdout",
     "output_type": "stream",
     "text": [
      "[1, 2, 3] [1, 2, 3] [1, 2, 3]\n"
     ]
    }
   ],
   "source": [
    "original = [1, 2, 3]\n",
    "copy1 = original[:]\n",
    "copy2 = list(original)\n",
    "copy3 = original.copy()\n",
    "\n",
    "print(copy1, copy2, copy3)"
   ]
  },
  {
   "cell_type": "code",
   "execution_count": 79,
   "id": "5a43d0fe",
   "metadata": {},
   "outputs": [
    {
     "name": "stdout",
     "output_type": "stream",
     "text": [
      "apple cherry\n",
      "['apple', 'orange', 'cherry']\n"
     ]
    }
   ],
   "source": [
    "fruits = [\"apple\", \"banana\", \"cherry\"]\n",
    "print(fruits[0], fruits[-1])  # apple, cherry\n",
    "fruits[1] = \"orange\"          # 要素の変更\n",
    "print(fruits)                 # ['apple', 'orange', 'cherry']"
   ]
  },
  {
   "cell_type": "code",
   "execution_count": 80,
   "id": "ff439b68",
   "metadata": {},
   "outputs": [
    {
     "name": "stdout",
     "output_type": "stream",
     "text": [
      "[1, 2] [0, 1, 2] [2, 3, 4, 5] [5, 4, 3, 2, 1, 0]\n"
     ]
    }
   ],
   "source": [
    "#スライス（部分的に取得）\n",
    "numbers = [0, 1, 2, 3, 4, 5]\n",
    "print(numbers[1:3], numbers[:3], numbers[2:], numbers[::-1])"
   ]
  },
  {
   "cell_type": "code",
   "execution_count": 81,
   "id": "4f32e168",
   "metadata": {},
   "outputs": [
    {
     "name": "stdout",
     "output_type": "stream",
     "text": [
      "['apple', 'grape', 'orange', 'cherry', 'mango', 'kiwi', 'pear']\n"
     ]
    }
   ],
   "source": [
    "#要素の追加\n",
    "#append(): 末尾に追加\n",
    "#insert(): 指定位置に挿入\n",
    "#extend(): リストの結合\n",
    "fruits.append(\"mango\")\n",
    "fruits.insert(1, \"grape\")\n",
    "fruits.extend([\"kiwi\", \"pear\"])\n",
    "print(fruits)"
   ]
  },
  {
   "cell_type": "code",
   "execution_count": 82,
   "id": "b83bf5ff",
   "metadata": {},
   "outputs": [],
   "source": [
    "#要素の削除\n",
    "#pop(): 指定インデックスの要素を削除して返す\n",
    "#remove(): 指定値を削除\n",
    "#del: インデックスやスライスを削除\n",
    "#clear(): 全要素を削除\n",
    "fruits.pop(1)       # インデックス1の要素を削除\n",
    "fruits.remove(\"kiwi\")  # 指定値を削除\n",
    "del fruits[0]       # インデックス0を削除\n",
    "fruits.clear()      # 全削除"
   ]
  },
  {
   "cell_type": "code",
   "execution_count": null,
   "id": "adca2ade",
   "metadata": {},
   "outputs": [
    {
     "name": "stdout",
     "output_type": "stream",
     "text": [
      "[1, 2, 3, 4, 5, 6] [1, 2, 3, 4, 5, 6]\n"
     ]
    }
   ],
   "source": [
    "#リストの結合\n",
    "list1 = [1, 2, 3]\n",
    "list2 = [4, 5, 6]\n",
    "combined = list1 + list2\n",
    "list1.extend(list2)\n",
    "\n",
    "print(combined, list1)"
   ]
  },
  {
   "cell_type": "code",
   "execution_count": null,
   "id": "f831a5b4",
   "metadata": {},
   "outputs": [],
   "source": [
    "#要素の検索とカウント\n",
    "numbers = [1, 2, 3, 2, 4, 2]\n",
    "print(\"2は存在するか:\", 2 in numbers)  # True\n",
    "print(\"2の出現回数:\", numbers.count(2))  # 3\n",
    "print(\"2の最初の位置:\", numbers.index(2))  # 1"
   ]
  },
  {
   "cell_type": "code",
   "execution_count": 84,
   "id": "13d701d2",
   "metadata": {},
   "outputs": [
    {
     "name": "stdout",
     "output_type": "stream",
     "text": [
      "[1, 1, 2, 3, 4, 5, 9] [9, 5, 4, 3, 2, 1, 1]\n"
     ]
    }
   ],
   "source": [
    "#リストの並び替え\n",
    "#sort(): 元のリストを変更\n",
    "#sorted(): 新しいリストを返す\n",
    "numbers = [3, 1, 4, 1, 5, 9, 2]\n",
    "numbers.sort()\n",
    "sorted_numbers = sorted(numbers, reverse=True)\n",
    "\n",
    "print(numbers, sorted_numbers)"
   ]
  },
  {
   "cell_type": "code",
   "execution_count": null,
   "id": "95cb8bbe",
   "metadata": {},
   "outputs": [],
   "source": [
    "#リスト内包表記\n",
    "#リスト内包表記 は、リストを効率的に作成する記法です。\n",
    "\n",
    "#基本構文\n",
    "#[式 for 要素 in コレクション]\n",
    "\n",
    "#条件付き構文（if 条件文を加える）\n",
    "#[式 for 要素 in コレクション if 条件]"
   ]
  },
  {
   "cell_type": "code",
   "execution_count": 85,
   "id": "c6cff70d",
   "metadata": {},
   "outputs": [
    {
     "name": "stdout",
     "output_type": "stream",
     "text": [
      "[1, 4, 9, 16, 25]\n"
     ]
    }
   ],
   "source": [
    "#数値リストの生成\n",
    "squares = [x**2 for x in range(1, 6)]\n",
    "print(squares)  # [1, 4, 9, 16, 25]"
   ]
  },
  {
   "cell_type": "code",
   "execution_count": 86,
   "id": "3281c526",
   "metadata": {},
   "outputs": [
    {
     "name": "stdout",
     "output_type": "stream",
     "text": [
      "[2, 4, 6, 8, 10]\n"
     ]
    }
   ],
   "source": [
    "#条件付きリスト\n",
    "even_numbers = [x for x in range(1, 11) if x % 2 == 0]\n",
    "print(even_numbers)  # [2, 4, 6, 8, 10]"
   ]
  },
  {
   "cell_type": "code",
   "execution_count": 87,
   "id": "0915a498",
   "metadata": {},
   "outputs": [
    {
     "name": "stdout",
     "output_type": "stream",
     "text": [
      "1 8\n"
     ]
    }
   ],
   "source": [
    "#多次元リスト\n",
    "matrix = [\n",
    "    [1, 2, 3],\n",
    "    [4, 5, 6],\n",
    "    [7, 8, 9]\n",
    "]\n",
    "\n",
    "print(matrix[0][0], matrix[2][1])  # 1, 8"
   ]
  },
  {
   "cell_type": "code",
   "execution_count": null,
   "id": "af6d09e2",
   "metadata": {},
   "outputs": [
    {
     "name": "stdout",
     "output_type": "stream",
     "text": [
      "1 2 3 \n",
      "4 5 6 \n",
      "7 8 9 \n"
     ]
    }
   ],
   "source": [
    "#ネストされたループで要素を処理\n",
    "for row in matrix:   #matrix（行列）の各行を順番にrowという変数に代入\n",
    "    for element in row:   # 各行（row）から要素を1つずつ取り出してelementに代入\n",
    "        print(element, end=\" \")\n",
    "    print()   #改行"
   ]
  },
  {
   "cell_type": "code",
   "execution_count": null,
   "id": "d14df7a5",
   "metadata": {},
   "outputs": [
    {
     "name": "stdout",
     "output_type": "stream",
     "text": [
      "[[1, 2, 3], [2, 4, 6], [3, 6, 9]]\n"
     ]
    }
   ],
   "source": [
    "#多次元リストを内包表記で生成\n",
    "matrix = [[i * j for j in range(1, 4)] for i in range(1, 4)]\n",
    "print(matrix)"
   ]
  },
  {
   "cell_type": "code",
   "execution_count": 92,
   "id": "a32b2da4",
   "metadata": {},
   "outputs": [
    {
     "name": "stdout",
     "output_type": "stream",
     "text": [
      "(1, 2, 3, 4, 5) ('apple', 'banana', 'cherry') (1, 'apple', 3.14, True) () (1,)\n"
     ]
    }
   ],
   "source": [
    "#タプルの作成方法\n",
    "#丸括弧で定義\n",
    "numbers = (1, 2, 3, 4, 5)\n",
    "fruits = (\"apple\", \"banana\", \"cherry\")\n",
    "mixed = (1, \"apple\", 3.14, True)\n",
    "empty_tuple = ()\n",
    "one_element_tuple = (1,)  # 要素1つの場合はカンマが必要\n",
    "\n",
    "print(numbers, fruits, mixed, empty_tuple, one_element_tuple)"
   ]
  },
  {
   "cell_type": "code",
   "execution_count": 93,
   "id": "29cbd65f",
   "metadata": {},
   "outputs": [
    {
     "name": "stdout",
     "output_type": "stream",
     "text": [
      "('h', 'e', 'l', 'l', 'o') (1, 2, 3) (0, 1, 2, 3, 4)\n"
     ]
    }
   ],
   "source": [
    "#tuple()関数で使用\n",
    "string_to_tuple = tuple(\"hello\")\n",
    "list_to_tuple = tuple([1, 2, 3])\n",
    "range_to_tuple = tuple(range(5))\n",
    "\n",
    "print(string_to_tuple, list_to_tuple, range_to_tuple)"
   ]
  },
  {
   "cell_type": "code",
   "execution_count": 94,
   "id": "ad955465",
   "metadata": {},
   "outputs": [
    {
     "name": "stdout",
     "output_type": "stream",
     "text": [
      "(None, None, None, None, None) (0, 0, 0, 0, 0, 0, 0, 0, 0, 0)\n"
     ]
    }
   ],
   "source": [
    "#同じ値で初期化\n",
    "none_tuple = (None,) * 5\n",
    "zeros = (0,) * 10\n",
    "\n",
    "print(none_tuple, zeros)"
   ]
  },
  {
   "cell_type": "code",
   "execution_count": 95,
   "id": "a0684e0c",
   "metadata": {},
   "outputs": [
    {
     "name": "stdout",
     "output_type": "stream",
     "text": [
      "(1, 2, 3) (4, 5, 6)\n"
     ]
    }
   ],
   "source": [
    "#ほかのシーエンスをコピー\n",
    "original_list = [1, 2, 3]\n",
    "copied_tuple = tuple(original_list)\n",
    "\n",
    "original_tuple = (4, 5, 6)\n",
    "copied_tuple2 = tuple(original_tuple)\n",
    "\n",
    "print(copied_tuple, copied_tuple2)"
   ]
  },
  {
   "cell_type": "code",
   "execution_count": null,
   "id": "f384380e",
   "metadata": {},
   "outputs": [
    {
     "name": "stdout",
     "output_type": "stream",
     "text": [
      "apple\n",
      "cherry\n"
     ]
    }
   ],
   "source": [
    "#タプルの基本調査\n",
    "#インデックスによるアクセス\n",
    "fruits = (\"apple\", \"banana\", \"cherry\")\n",
    "print(fruits[0])  # apple\n",
    "print(fruits[-1])  # cherry"
   ]
  },
  {
   "cell_type": "code",
   "execution_count": 97,
   "id": "30973798",
   "metadata": {},
   "outputs": [
    {
     "name": "stdout",
     "output_type": "stream",
     "text": [
      "(1, 2)\n",
      "(5, 4, 3, 2, 1, 0)\n"
     ]
    }
   ],
   "source": [
    "#スライス（部分的な要素の取得）\n",
    "numbers = (0, 1, 2, 3, 4, 5)\n",
    "print(numbers[1:3])   # (1, 2)\n",
    "print(numbers[::-1])  # (5, 4, 3, 2, 1, 0)"
   ]
  },
  {
   "cell_type": "code",
   "execution_count": 98,
   "id": "22c652de",
   "metadata": {},
   "outputs": [
    {
     "name": "stdout",
     "output_type": "stream",
     "text": [
      "True\n",
      "2\n"
     ]
    }
   ],
   "source": [
    "#要素の検索\n",
    "fruits = (\"apple\", \"banana\", \"cherry\")\n",
    "print(\"banana\" in fruits)      # True\n",
    "print(fruits.index(\"cherry\"))  # 2"
   ]
  },
  {
   "cell_type": "code",
   "execution_count": 99,
   "id": "511e0f6a",
   "metadata": {},
   "outputs": [
    {
     "name": "stdout",
     "output_type": "stream",
     "text": [
      "3\n"
     ]
    }
   ],
   "source": [
    "#要素のカウント\n",
    "numbers = (1, 2, 3, 2, 4, 2, 5)\n",
    "print(numbers.count(2))  # 3"
   ]
  },
  {
   "cell_type": "code",
   "execution_count": 100,
   "id": "c7c0b422",
   "metadata": {},
   "outputs": [
    {
     "name": "stdout",
     "output_type": "stream",
     "text": [
      "(1, 2, 3, 4, 5, 6)\n"
     ]
    }
   ],
   "source": [
    "#タプルの結合\n",
    "tuple1 = (1, 2, 3)\n",
    "tuple2 = (4, 5, 6)\n",
    "combined_tuple = tuple1 + tuple2\n",
    "\n",
    "print(combined_tuple)  # (1, 2, 3, 4, 5, 6)"
   ]
  },
  {
   "cell_type": "code",
   "execution_count": 102,
   "id": "a6ab04be",
   "metadata": {},
   "outputs": [
    {
     "name": "stdout",
     "output_type": "stream",
     "text": [
      "{'one': 1, 'two': 2, 'three': 3} {'name': 'Alice', 'age': 25, 'is_student': False} {}\n"
     ]
    }
   ],
   "source": [
    "#辞書（dict）\n",
    "#中括弧 {} を使用\n",
    "numbers = {\"one\": 1, \"two\": 2, \"three\": 3}\n",
    "person = {\"name\": \"Alice\", \"age\": 25, \"is_student\": False}\n",
    "empty_dict = {}\n",
    "\n",
    "print(numbers, person, empty_dict)"
   ]
  },
  {
   "cell_type": "code",
   "execution_count": 103,
   "id": "36295aac",
   "metadata": {},
   "outputs": [
    {
     "name": "stdout",
     "output_type": "stream",
     "text": [
      "{'name': 'Bob', 'age': 30, 'is_student': True} {'apple': 100, 'banana': 200}\n"
     ]
    }
   ],
   "source": [
    "#dict()関数を使用\n",
    "person = dict(name=\"Bob\", age=30, is_student=True)\n",
    "pairs = [(\"apple\", 100), (\"banana\", 200)]\n",
    "fruit_prices = dict(pairs)\n",
    "\n",
    "print(person, fruit_prices)"
   ]
  },
  {
   "cell_type": "code",
   "execution_count": 104,
   "id": "79421847",
   "metadata": {},
   "outputs": [
    {
     "name": "stdout",
     "output_type": "stream",
     "text": [
      "{'key1': 0, 'key2': 0, 'key3': 0}\n"
     ]
    }
   ],
   "source": [
    "#dict.fromkeys()を使用\n",
    "keys = [\"key1\", \"key2\", \"key3\"]\n",
    "default_dict = dict.fromkeys(keys, 0)\n",
    "\n",
    "print(default_dict)"
   ]
  },
  {
   "cell_type": "code",
   "execution_count": 105,
   "id": "e21379cd",
   "metadata": {},
   "outputs": [
    {
     "name": "stdout",
     "output_type": "stream",
     "text": [
      "100\n",
      "{'apple': 100, 'banana': 250, 'cherry': 300}\n"
     ]
    }
   ],
   "source": [
    "#辞書の基本調査\n",
    "#キーによるアクセス\n",
    "fruit_prices = {\"apple\": 100, \"banana\": 200, \"cherry\": 300}\n",
    "print(fruit_prices[\"apple\"])  # 100\n",
    "\n",
    "# 値の更新\n",
    "fruit_prices[\"banana\"] = 250\n",
    "print(fruit_prices)"
   ]
  },
  {
   "cell_type": "code",
   "execution_count": 106,
   "id": "e59900e2",
   "metadata": {},
   "outputs": [
    {
     "name": "stdout",
     "output_type": "stream",
     "text": [
      "{'apple': 100, 'banana': 180, 'grape': 400}\n"
     ]
    }
   ],
   "source": [
    "#要素の追加・変更\n",
    "fruit_prices = {\"apple\": 100, \"banana\": 200}\n",
    "fruit_prices[\"grape\"] = 400  # 新しい要素の追加\n",
    "fruit_prices[\"banana\"] = 180  # 値の変更\n",
    "\n",
    "print(fruit_prices)"
   ]
  },
  {
   "cell_type": "code",
   "execution_count": 107,
   "id": "3e7d1f0f",
   "metadata": {},
   "outputs": [
    {
     "name": "stdout",
     "output_type": "stream",
     "text": [
      "{} 200\n"
     ]
    }
   ],
   "source": [
    "#要素の削除\n",
    "\n",
    "#pop(): 指定キーの要素を削除して値を返す\n",
    "#del: 指定キーの要素を削除\n",
    "#clear(): 全要素を削除\n",
    "fruit_prices = {\"apple\": 100, \"banana\": 200, \"cherry\": 300}\n",
    "\n",
    "del_price = fruit_prices.pop(\"banana\")\n",
    "del fruit_prices[\"cherry\"]\n",
    "fruit_prices.clear()\n",
    "\n",
    "print(fruit_prices, del_price)"
   ]
  },
  {
   "cell_type": "code",
   "execution_count": 108,
   "id": "a01ef964",
   "metadata": {},
   "outputs": [
    {
     "name": "stdout",
     "output_type": "stream",
     "text": [
      "dict_keys(['apple', 'banana', 'cherry']) dict_values([100, 200, 300]) dict_items([('apple', 100), ('banana', 200), ('cherry', 300)])\n"
     ]
    }
   ],
   "source": [
    "#キーと値の取得\n",
    "\n",
    "#keys(): すべてのキー\n",
    "#values(): すべての値\n",
    "#items(): キーと値のペア（タプル）\n",
    "fruit_prices = {\"apple\": 100, \"banana\": 200, \"cherry\": 300}\n",
    "print(fruit_prices.keys(), fruit_prices.values(), fruit_prices.items())"
   ]
  },
  {
   "cell_type": "code",
   "execution_count": 109,
   "id": "8b45c9f5",
   "metadata": {},
   "outputs": [
    {
     "name": "stdout",
     "output_type": "stream",
     "text": [
      "True\n",
      "False\n"
     ]
    }
   ],
   "source": [
    "#キーの存在確認\n",
    "fruit_prices = {\"apple\": 100, \"banana\": 200}\n",
    "print(\"apple\" in fruit_prices)  # True\n",
    "print(\"grape\" in fruit_prices)  # False"
   ]
  },
  {
   "cell_type": "code",
   "execution_count": 111,
   "id": "6ae824f5",
   "metadata": {},
   "outputs": [
    {
     "name": "stdout",
     "output_type": "stream",
     "text": [
      "<class 'int'>\n",
      "<class 'str'>\n",
      "<class 'list'>\n"
     ]
    }
   ],
   "source": [
    "#type()\n",
    "print(type(123))         #整数\n",
    "print(type(\"Python\"))    #文字列\n",
    "print(type([1, 2, 3]))   #リスト"
   ]
  },
  {
   "cell_type": "code",
   "execution_count": 112,
   "id": "f74f00d0",
   "metadata": {},
   "outputs": [
    {
     "name": "stdout",
     "output_type": "stream",
     "text": [
      "20\n",
      "1\n"
     ]
    }
   ],
   "source": [
    "#max() と min()\n",
    "print(max(5, 10, 20))     # 20\n",
    "print(min([1, 2, 3, 4]))  # 1"
   ]
  },
  {
   "cell_type": "code",
   "execution_count": 113,
   "id": "db48afc7",
   "metadata": {},
   "outputs": [
    {
     "name": "stdout",
     "output_type": "stream",
     "text": [
      "60\n",
      "10\n"
     ]
    }
   ],
   "source": [
    "#sum()\n",
    "print(sum((10, 20, 30)))  # 60\n",
    "print(sum([1, 2, 3, 4]))  # 10"
   ]
  },
  {
   "cell_type": "code",
   "execution_count": 114,
   "id": "debf528d",
   "metadata": {},
   "outputs": [
    {
     "name": "stdout",
     "output_type": "stream",
     "text": [
      "0\n",
      "1\n",
      "2\n",
      "3\n",
      "4\n",
      "[1, 3, 5, 7, 9]\n"
     ]
    }
   ],
   "source": [
    "#range()\n",
    "for i in range(5):\n",
    "    print(i)              # 0, 1, 2, 3, 4\n",
    "\n",
    "print(list(range(1, 10, 2)))  # [1, 3, 5, 7, 9]"
   ]
  },
  {
   "cell_type": "code",
   "execution_count": 115,
   "id": "99ffdff3",
   "metadata": {},
   "outputs": [],
   "source": [
    "#sorted(): リストを並べ替える\n",
    "#abs(): 絶対値を求める"
   ]
  },
  {
   "cell_type": "code",
   "execution_count": null,
   "id": "c7556cea",
   "metadata": {},
   "outputs": [
    {
     "name": "stdout",
     "output_type": "stream",
     "text": [
      "「にんてんどううどんてんに」は回文です！\n"
     ]
    }
   ],
   "source": [
    "#関数の定義と呼び出し\n",
    "#def 関数名(引数1, 引数2, ...):\n",
    "    # 関数の処理\n",
    "    #return 戻り値\n",
    "\n",
    "#def: 関数の定義を開始するキーワード\n",
    "#関数名: 処理内容がわかりやすい名前を付けます。\n",
    "#引数: 関数に渡すデータを指定します。引数は省略可能です。\n",
    "#return: 戻り値を返します。必要がなければ省略可能です。\n",
    "\n",
    "def is_palindrome(s):\n",
    "    if s == s[::-1]: #s[::-1]はsを逆順にする\n",
    "        print(f\"「{s}」は回文です！\")\n",
    "    else:\n",
    "        print(f\"「{s}」は回文ではないです。\")\n",
    "\n",
    "is_palindrome(\"にんてんどううどんてんに\")"
   ]
  },
  {
   "cell_type": "code",
   "execution_count": 117,
   "id": "5e649839",
   "metadata": {},
   "outputs": [
    {
     "name": "stdout",
     "output_type": "stream",
     "text": [
      "こんにちは、太郎さん！\n"
     ]
    }
   ],
   "source": [
    "#基本的な引数\n",
    "def greet(name):\n",
    "    print(f\"こんにちは、{name}さん！\")\n",
    "\n",
    "greet(\"太郎\")"
   ]
  },
  {
   "cell_type": "code",
   "execution_count": null,
   "id": "c0c6578a",
   "metadata": {},
   "outputs": [
    {
     "name": "stdout",
     "output_type": "stream",
     "text": [
      "こんにちは、峰さん！ 年齢は25歳ですね。\n"
     ]
    }
   ],
   "source": [
    "#複数の引数\n",
    "def introduce(name, age):\n",
    "    print(f\"こんにちは、{name}さん！ 年齢は{age}歳ですね。\")\n",
    "\n",
    "introduce(\"峰\", 25)"
   ]
  },
  {
   "cell_type": "code",
   "execution_count": 120,
   "id": "2d945a92",
   "metadata": {},
   "outputs": [
    {
     "name": "stdout",
     "output_type": "stream",
     "text": [
      "こんにちは、太郎さん！ 年齢は18歳ですね。\n"
     ]
    }
   ],
   "source": [
    "#デフォルト引数\n",
    "def introduce(name, age=18):\n",
    "    print(f\"こんにちは、{name}さん！ 年齢は{age}歳ですね。\")\n",
    "\n",
    "introduce(\"太郎\")"
   ]
  },
  {
   "cell_type": "code",
   "execution_count": null,
   "id": "66021d41",
   "metadata": {},
   "outputs": [
    {
     "name": "stdout",
     "output_type": "stream",
     "text": [
      "合計: 10\n"
     ]
    }
   ],
   "source": [
    "#可変長引数\n",
    "#引数の数が決まっていない場合には、可変長引数を使用します。\n",
    "\n",
    "#*args: 複数の位置引数を受け取る\n",
    "#**kwargs: 複数のキーワード引数を受け取る\n",
    "def add(*args):\n",
    "    print(\"合計:\", sum(args))\n",
    "\n",
    "add(1, 2, 3, 4)"
   ]
  },
  {
   "cell_type": "code",
   "execution_count": 123,
   "id": "94d36bd7",
   "metadata": {},
   "outputs": [
    {
     "name": "stdout",
     "output_type": "stream",
     "text": [
      "8\n"
     ]
    }
   ],
   "source": [
    "#戻り値（return文）\n",
    "def add(a, b):\n",
    "    return a + b\n",
    "\n",
    "result = add(3, 5)\n",
    "print(result)"
   ]
  },
  {
   "cell_type": "code",
   "execution_count": 124,
   "id": "4190a288",
   "metadata": {},
   "outputs": [
    {
     "name": "stdout",
     "output_type": "stream",
     "text": [
      "足し算: 7\n",
      "掛け算: 12\n"
     ]
    }
   ],
   "source": [
    "#複数の戻り値\n",
    "def calculate(a, b):\n",
    "    return a + b, a * b\n",
    "\n",
    "sum_result, product_result = calculate(3, 4)\n",
    "print(\"足し算:\", sum_result)\n",
    "print(\"掛け算:\", product_result)"
   ]
  },
  {
   "cell_type": "code",
   "execution_count": 125,
   "id": "38060618",
   "metadata": {},
   "outputs": [
    {
     "name": "stdout",
     "output_type": "stream",
     "text": [
      "4.0\n"
     ]
    }
   ],
   "source": [
    "#モジュールとライブラリの活用\n",
    "#基本のインポート\n",
    "import math\n",
    "print(math.sqrt(16))"
   ]
  },
  {
   "cell_type": "code",
   "execution_count": 127,
   "id": "b4a0fcf5",
   "metadata": {},
   "outputs": [
    {
     "name": "stdout",
     "output_type": "stream",
     "text": [
      "現在の日時: 2025-04-08 15:40:19.968373\n"
     ]
    }
   ],
   "source": [
    "#エイリアスを使う\n",
    "import datetime as dt\n",
    "now = dt.datetime.now()\n",
    "print(\"現在の日時:\", now)"
   ]
  },
  {
   "cell_type": "code",
   "execution_count": 128,
   "id": "d8eeb5d9",
   "metadata": {},
   "outputs": [
    {
     "name": "stdout",
     "output_type": "stream",
     "text": [
      "4.0\n",
      "3.141592653589793\n"
     ]
    }
   ],
   "source": [
    "#特定の関数や変数だけをインポート\n",
    "from math import sqrt\n",
    "print(sqrt(16))  # 4.0\n",
    "\n",
    "from math import sqrt, pi\n",
    "print(pi)        # 3.141592653589793"
   ]
  },
  {
   "cell_type": "code",
   "execution_count": 129,
   "id": "ca12ced0",
   "metadata": {},
   "outputs": [],
   "source": [
    "#*を使ったインポート（名前の衝突が起きやすいため非推奨）\n",
    "from math import *"
   ]
  },
  {
   "cell_type": "code",
   "execution_count": 131,
   "id": "e848fb6b",
   "metadata": {},
   "outputs": [
    {
     "name": "stdout",
     "output_type": "stream",
     "text": [
      "5.0\n",
      "2.718281828459045\n",
      "3.141592653589793\n"
     ]
    }
   ],
   "source": [
    "#標準ライブラリの活用方法\n",
    "#math モジュール\n",
    "#datetime モジュール\n",
    "#random モジュール\n",
    "#os モジュール\n",
    "#urllib モジュール\n",
    "import math\n",
    "\n",
    "print(math.sqrt(25))  # 5.0\n",
    "print(math.exp(1))    # 2.718281828459045 #自然対数e**2\n",
    "print(math.pi)        # 3.141592653589793"
   ]
  },
  {
   "cell_type": "code",
   "execution_count": 132,
   "id": "069bd75b",
   "metadata": {},
   "outputs": [
    {
     "name": "stdout",
     "output_type": "stream",
     "text": [
      "2025-04-08 15:48:53.828548\n",
      "1995-05-17 00:00:00\n",
      "365\n"
     ]
    }
   ],
   "source": [
    "import datetime as dt\n",
    "\n",
    "now = dt.datetime.now()\n",
    "print(now)\n",
    "\n",
    "birthday = dt.datetime(1995, 5, 17)\n",
    "print(birthday)\n",
    "\n",
    "date1 = dt.datetime(2023, 1, 1)\n",
    "date2 = dt.datetime(2024, 1, 1)\n",
    "print((date2 - date1).days)  # 日数差"
   ]
  },
  {
   "cell_type": "code",
   "execution_count": 135,
   "id": "be0aa99c",
   "metadata": {},
   "outputs": [
    {
     "name": "stdout",
     "output_type": "stream",
     "text": [
      "1\n",
      "[3, 4, 2, 5, 1]\n",
      "1\n"
     ]
    }
   ],
   "source": [
    "import random\n",
    "\n",
    "print(random.randint(1, 10))  # 1〜10のランダムな整数\n",
    "my_list = [1, 2, 3, 4, 5]\n",
    "random.shuffle(my_list)       # リストをランダムに並び替え\n",
    "print(my_list)\n",
    "print(random.choice(my_list)) # ランダムな要素を1つ選択"
   ]
  },
  {
   "cell_type": "code",
   "execution_count": 136,
   "id": "9b18a84c",
   "metadata": {},
   "outputs": [
    {
     "name": "stdout",
     "output_type": "stream",
     "text": [
      "c:\\Users\\FISS\\Downloads\\sample\\05_programming\n",
      "False\n"
     ]
    }
   ],
   "source": [
    "import os\n",
    "\n",
    "print(os.getcwd())         # 現在の作業ディレクトリを取得\n",
    "os.mkdir(\"new_folder\")     # 新しいフォルダを作成\n",
    "print(os.path.exists(\"example.txt\"))  # ファイルやフォルダの存在確認"
   ]
  },
  {
   "cell_type": "code",
   "execution_count": 137,
   "id": "d34db7be",
   "metadata": {},
   "outputs": [
    {
     "name": "stdout",
     "output_type": "stream",
     "text": [
      "<!DOCTYPE html><html  lang=\"ja\" data-theme=\"techacademy\" data-capo=\"\"><head><meta charset=\"utf-8\">\n",
      "<meta name=\"viewport\" content=\"width=device-width, initial-scale=1\">\n",
      "<title>プログラミングスクール | 受講者数No.1のテックアカデミー</title>\n",
      "<link rel=\"preconnect\" href=\"https://fonts.googleapis.com\">\n",
      "<link rel=\"preconnect\" href=\"https://fonts.gstatic.com\" crossorigin>\n",
      "<script src=\"https://www.googletagmanager.com/gtag/js?id=AW-1006744060\" async data-hid=\"92ebc66\"></script>\n",
      "<script src=\"//static.criteo.net/js/ld/ld.js\" asy\n"
     ]
    }
   ],
   "source": [
    "import urllib.request\n",
    "\n",
    "url = \"https://techacademy.jp\"\n",
    "response = urllib.request.urlopen(url)\n",
    "html = response.read().decode(\"utf-8\")\n",
    "print(html[:500])  # 最初の500文字を表示"
   ]
  },
  {
   "cell_type": "code",
   "execution_count": 152,
   "id": "d0ac9bf8",
   "metadata": {},
   "outputs": [
    {
     "name": "stdout",
     "output_type": "stream",
     "text": [
      "送料は350円です\n",
      "送料込税込価格は2330円です\n"
     ]
    }
   ],
   "source": [
    "tax_excluded_price = int(input(\"税抜価格を入力してください: \"))\n",
    "\n",
    "tax_rate = 0.10\n",
    "tax_included_price = tax_excluded_price + (tax_excluded_price * tax_rate)\n",
    "\n",
    "if tax_included_price >= 2000:\n",
    "    shipping_cost = 0\n",
    "    print(\"送料は無料です\" )\n",
    "else:\n",
    "    shipping_cost = 350\n",
    "    print(f\"送料は{shipping_cost}円です\")\n",
    "\n",
    "price = tax_included_price + shipping_cost\n",
    "\n",
    "print(f\"送料込税込価格は{price:.0f}円です\")"
   ]
  },
  {
   "cell_type": "code",
   "execution_count": null,
   "id": "d8707d8a",
   "metadata": {},
   "outputs": [],
   "source": []
  }
 ],
 "metadata": {
  "kernelspec": {
   "display_name": "Python 3",
   "language": "python",
   "name": "python3"
  },
  "language_info": {
   "codemirror_mode": {
    "name": "ipython",
    "version": 3
   },
   "file_extension": ".py",
   "mimetype": "text/x-python",
   "name": "python",
   "nbconvert_exporter": "python",
   "pygments_lexer": "ipython3",
   "version": "3.12.7"
  }
 },
 "nbformat": 4,
 "nbformat_minor": 5
}
