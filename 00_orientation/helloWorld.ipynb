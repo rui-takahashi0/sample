{
 "cells": [
  {
   "cell_type": "code",
   "execution_count": null,
   "id": "449dc16f",
   "metadata": {},
   "outputs": [
    {
     "name": "stdout",
     "output_type": "stream",
     "text": [
      "Hallo World!\n"
     ]
    }
   ],
   "source": [
    "print(\"Hallo! World!\")"
   ]
  },
  {
   "cell_type": "code",
   "execution_count": 1,
   "id": "ddae9804",
   "metadata": {},
   "outputs": [
    {
     "name": "stdout",
     "output_type": "stream",
     "text": [
      "Hallo! World!\n",
      "こんにちは！　世界！\n"
     ]
    }
   ],
   "source": [
    "print(\"Hallo! World!\")\n",
    "print(\"こんにちは！　世界！\")"
   ]
  },
  {
   "cell_type": "code",
   "execution_count": 2,
   "id": "c161e5e4",
   "metadata": {},
   "outputs": [
    {
     "name": "stdout",
     "output_type": "stream",
     "text": [
      "開発を行ないます！\n"
     ]
    }
   ],
   "source": [
    "print(\"開発を行ないます！\")"
   ]
  },
  {
   "cell_type": "code",
   "execution_count": null,
   "id": "8e3fc91b",
   "metadata": {},
   "outputs": [],
   "source": []
  }
 ],
 "metadata": {
  "kernelspec": {
   "display_name": "Python 3",
   "language": "python",
   "name": "python3"
  },
  "language_info": {
   "codemirror_mode": {
    "name": "ipython",
    "version": 3
   },
   "file_extension": ".py",
   "mimetype": "text/x-python",
   "name": "python",
   "nbconvert_exporter": "python",
   "pygments_lexer": "ipython3",
   "version": "3.12.7"
  }
 },
 "nbformat": 4,
 "nbformat_minor": 5
}
